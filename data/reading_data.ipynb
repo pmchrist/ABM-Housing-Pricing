{
 "cells": [
  {
   "cell_type": "code",
   "execution_count": 3,
   "metadata": {},
   "outputs": [
    {
     "data": {
      "text/plain": [
       "[44900, 42100, 36100, 31400, 35800, 37500, 49800]"
      ]
     },
     "execution_count": 3,
     "metadata": {},
     "output_type": "execute_result"
    }
   ],
   "source": [
    "import pandas as pd\n",
    "\n",
    "class real_life_data:\n",
    "    df = pd.read_excel('../data/_combined_datasets.xlsx', engine='openpyxl')\n",
    "    \n",
    "    neighbourhood_name = df[\"stadsdeel\"].values.tolist()\n",
    "    neighbourhood_households_amount = df[\"houses\"].values.tolist()\n",
    "    neighbourhood_households_disposable_income = df[\"household_disposable_income\"].values.tolist()\n",
    "\n",
    "    neighbourhood_housing_quality = df[\"satisfaction_housing\"].values.tolist()\n",
    "    neighbourhood_shops = df[\"shop_index\"].values.tolist()\n",
    "    neighbourhood_crime = df[\"crime_index\"].values.tolist()\n",
    "    neighbourhood_nature = df[\"nature_area_%\"].values.tolist()\n",
    "\n",
    "    target_neighbourhood_houses_sold = df[\"houses_sold\"].values.tolist()\n",
    "    target_neighbourhood_houses_price = df[\"average_house_price\"].values.tolist()\n",
    "    target_neighbourhood_satisfaction = df[\"satisfaction_neighbourhood\"].values.tolist()\n",
    "    target_neighbourhood_sellers = df[\"want_to_move_out_%\"].values.tolist()\\\n",
    "    \n",
    "data_object = real_life_data"
   ]
  }
 ],
 "metadata": {
  "kernelspec": {
   "display_name": "ABM",
   "language": "python",
   "name": "python3"
  },
  "language_info": {
   "codemirror_mode": {
    "name": "ipython",
    "version": 3
   },
   "file_extension": ".py",
   "mimetype": "text/x-python",
   "name": "python",
   "nbconvert_exporter": "python",
   "pygments_lexer": "ipython3",
   "version": "3.9.15 (main, Nov 24 2022, 14:39:17) [MSC v.1916 64 bit (AMD64)]"
  },
  "orig_nbformat": 4,
  "vscode": {
   "interpreter": {
    "hash": "86bc8a943d562c4a67ae73fc47e0f626d68abcc3b9f6a0a0642b86892949bf6b"
   }
  }
 },
 "nbformat": 4,
 "nbformat_minor": 2
}
