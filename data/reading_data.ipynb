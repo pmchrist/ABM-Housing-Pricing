{
 "cells": [
  {
   "cell_type": "code",
   "execution_count": 9,
   "metadata": {},
   "outputs": [
    {
     "ename": "XLRDError",
     "evalue": "Excel xlsx file; not supported",
     "output_type": "error",
     "traceback": [
      "\u001b[1;31m---------------------------------------------------------------------------\u001b[0m",
      "\u001b[1;31mXLRDError\u001b[0m                                 Traceback (most recent call last)",
      "Cell \u001b[1;32mIn[9], line 4\u001b[0m\n\u001b[0;32m      1\u001b[0m \u001b[39mimport\u001b[39;00m \u001b[39mpandas\u001b[39;00m \u001b[39mas\u001b[39;00m \u001b[39mpd\u001b[39;00m\n\u001b[1;32m----> 4\u001b[0m pd\u001b[39m.\u001b[39;49mread_excel(\u001b[39m'\u001b[39;49m\u001b[39mdata.xlsx\u001b[39;49m\u001b[39m'\u001b[39;49m, index_col\u001b[39m=\u001b[39;49m\u001b[39mNone\u001b[39;49;00m, header\u001b[39m=\u001b[39;49m\u001b[39mNone\u001b[39;49;00m)  \n",
      "File \u001b[1;32mc:\\Users\\pmchrist\\.conda\\envs\\ABM\\lib\\site-packages\\pandas\\util\\_decorators.py:296\u001b[0m, in \u001b[0;36mdeprecate_nonkeyword_arguments.<locals>.decorate.<locals>.wrapper\u001b[1;34m(*args, **kwargs)\u001b[0m\n\u001b[0;32m    291\u001b[0m     msg \u001b[39m=\u001b[39m (\n\u001b[0;32m    292\u001b[0m         \u001b[39mf\u001b[39m\u001b[39m\"\u001b[39m\u001b[39mStarting with Pandas version \u001b[39m\u001b[39m{\u001b[39;00mversion\u001b[39m}\u001b[39;00m\u001b[39m all arguments of \u001b[39m\u001b[39m\"\u001b[39m\n\u001b[0;32m    293\u001b[0m         \u001b[39mf\u001b[39m\u001b[39m\"\u001b[39m\u001b[39m{\u001b[39;00mfunc\u001b[39m.\u001b[39m\u001b[39m__name__\u001b[39m\u001b[39m}\u001b[39;00m\u001b[39m{\u001b[39;00marguments\u001b[39m}\u001b[39;00m\u001b[39m will be keyword-only\u001b[39m\u001b[39m\"\u001b[39m\n\u001b[0;32m    294\u001b[0m     )\n\u001b[0;32m    295\u001b[0m     warnings\u001b[39m.\u001b[39mwarn(msg, \u001b[39mFutureWarning\u001b[39;00m, stacklevel\u001b[39m=\u001b[39mstacklevel)\n\u001b[1;32m--> 296\u001b[0m \u001b[39mreturn\u001b[39;00m func(\u001b[39m*\u001b[39margs, \u001b[39m*\u001b[39m\u001b[39m*\u001b[39mkwargs)\n",
      "File \u001b[1;32mc:\\Users\\pmchrist\\.conda\\envs\\ABM\\lib\\site-packages\\pandas\\io\\excel\\_base.py:304\u001b[0m, in \u001b[0;36mread_excel\u001b[1;34m(io, sheet_name, header, names, index_col, usecols, squeeze, dtype, engine, converters, true_values, false_values, skiprows, nrows, na_values, keep_default_na, na_filter, verbose, parse_dates, date_parser, thousands, comment, skipfooter, convert_float, mangle_dupe_cols)\u001b[0m\n\u001b[0;32m    273\u001b[0m \u001b[39m@deprecate_nonkeyword_arguments\u001b[39m(allowed_args\u001b[39m=\u001b[39m\u001b[39m2\u001b[39m, version\u001b[39m=\u001b[39m\u001b[39m\"\u001b[39m\u001b[39m2.0\u001b[39m\u001b[39m\"\u001b[39m)\n\u001b[0;32m    274\u001b[0m \u001b[39m@Appender\u001b[39m(_read_excel_doc)\n\u001b[0;32m    275\u001b[0m \u001b[39mdef\u001b[39;00m \u001b[39mread_excel\u001b[39m(\n\u001b[1;32m   (...)\u001b[0m\n\u001b[0;32m    300\u001b[0m     mangle_dupe_cols\u001b[39m=\u001b[39m\u001b[39mTrue\u001b[39;00m,\n\u001b[0;32m    301\u001b[0m ):\n\u001b[0;32m    303\u001b[0m     \u001b[39mif\u001b[39;00m \u001b[39mnot\u001b[39;00m \u001b[39misinstance\u001b[39m(io, ExcelFile):\n\u001b[1;32m--> 304\u001b[0m         io \u001b[39m=\u001b[39m ExcelFile(io, engine\u001b[39m=\u001b[39;49mengine)\n\u001b[0;32m    305\u001b[0m     \u001b[39melif\u001b[39;00m engine \u001b[39mand\u001b[39;00m engine \u001b[39m!=\u001b[39m io\u001b[39m.\u001b[39mengine:\n\u001b[0;32m    306\u001b[0m         \u001b[39mraise\u001b[39;00m \u001b[39mValueError\u001b[39;00m(\n\u001b[0;32m    307\u001b[0m             \u001b[39m\"\u001b[39m\u001b[39mEngine should not be specified when passing \u001b[39m\u001b[39m\"\u001b[39m\n\u001b[0;32m    308\u001b[0m             \u001b[39m\"\u001b[39m\u001b[39man ExcelFile - ExcelFile already has the engine set\u001b[39m\u001b[39m\"\u001b[39m\n\u001b[0;32m    309\u001b[0m         )\n",
      "File \u001b[1;32mc:\\Users\\pmchrist\\.conda\\envs\\ABM\\lib\\site-packages\\pandas\\io\\excel\\_base.py:867\u001b[0m, in \u001b[0;36mExcelFile.__init__\u001b[1;34m(self, path_or_buffer, engine)\u001b[0m\n\u001b[0;32m    864\u001b[0m \u001b[39m# Always a string\u001b[39;00m\n\u001b[0;32m    865\u001b[0m \u001b[39mself\u001b[39m\u001b[39m.\u001b[39m_io \u001b[39m=\u001b[39m stringify_path(path_or_buffer)\n\u001b[1;32m--> 867\u001b[0m \u001b[39mself\u001b[39m\u001b[39m.\u001b[39m_reader \u001b[39m=\u001b[39m \u001b[39mself\u001b[39;49m\u001b[39m.\u001b[39;49m_engines[engine](\u001b[39mself\u001b[39;49m\u001b[39m.\u001b[39;49m_io)\n",
      "File \u001b[1;32mc:\\Users\\pmchrist\\.conda\\envs\\ABM\\lib\\site-packages\\pandas\\io\\excel\\_xlrd.py:22\u001b[0m, in \u001b[0;36m_XlrdReader.__init__\u001b[1;34m(self, filepath_or_buffer)\u001b[0m\n\u001b[0;32m     20\u001b[0m err_msg \u001b[39m=\u001b[39m \u001b[39m\"\u001b[39m\u001b[39mInstall xlrd >= 1.0.0 for Excel support\u001b[39m\u001b[39m\"\u001b[39m\n\u001b[0;32m     21\u001b[0m import_optional_dependency(\u001b[39m\"\u001b[39m\u001b[39mxlrd\u001b[39m\u001b[39m\"\u001b[39m, extra\u001b[39m=\u001b[39merr_msg)\n\u001b[1;32m---> 22\u001b[0m \u001b[39msuper\u001b[39;49m()\u001b[39m.\u001b[39;49m\u001b[39m__init__\u001b[39;49m(filepath_or_buffer)\n",
      "File \u001b[1;32mc:\\Users\\pmchrist\\.conda\\envs\\ABM\\lib\\site-packages\\pandas\\io\\excel\\_base.py:353\u001b[0m, in \u001b[0;36m_BaseExcelReader.__init__\u001b[1;34m(self, filepath_or_buffer)\u001b[0m\n\u001b[0;32m    351\u001b[0m     \u001b[39mself\u001b[39m\u001b[39m.\u001b[39mbook \u001b[39m=\u001b[39m \u001b[39mself\u001b[39m\u001b[39m.\u001b[39mload_workbook(filepath_or_buffer)\n\u001b[0;32m    352\u001b[0m \u001b[39melif\u001b[39;00m \u001b[39misinstance\u001b[39m(filepath_or_buffer, \u001b[39mstr\u001b[39m):\n\u001b[1;32m--> 353\u001b[0m     \u001b[39mself\u001b[39m\u001b[39m.\u001b[39mbook \u001b[39m=\u001b[39m \u001b[39mself\u001b[39;49m\u001b[39m.\u001b[39;49mload_workbook(filepath_or_buffer)\n\u001b[0;32m    354\u001b[0m \u001b[39melif\u001b[39;00m \u001b[39misinstance\u001b[39m(filepath_or_buffer, \u001b[39mbytes\u001b[39m):\n\u001b[0;32m    355\u001b[0m     \u001b[39mself\u001b[39m\u001b[39m.\u001b[39mbook \u001b[39m=\u001b[39m \u001b[39mself\u001b[39m\u001b[39m.\u001b[39mload_workbook(BytesIO(filepath_or_buffer))\n",
      "File \u001b[1;32mc:\\Users\\pmchrist\\.conda\\envs\\ABM\\lib\\site-packages\\pandas\\io\\excel\\_xlrd.py:37\u001b[0m, in \u001b[0;36m_XlrdReader.load_workbook\u001b[1;34m(self, filepath_or_buffer)\u001b[0m\n\u001b[0;32m     35\u001b[0m     \u001b[39mreturn\u001b[39;00m open_workbook(file_contents\u001b[39m=\u001b[39mdata)\n\u001b[0;32m     36\u001b[0m \u001b[39melse\u001b[39;00m:\n\u001b[1;32m---> 37\u001b[0m     \u001b[39mreturn\u001b[39;00m open_workbook(filepath_or_buffer)\n",
      "File \u001b[1;32mc:\\Users\\pmchrist\\.conda\\envs\\ABM\\lib\\site-packages\\xlrd\\__init__.py:170\u001b[0m, in \u001b[0;36mopen_workbook\u001b[1;34m(filename, logfile, verbosity, use_mmap, file_contents, encoding_override, formatting_info, on_demand, ragged_rows, ignore_workbook_corruption)\u001b[0m\n\u001b[0;32m    167\u001b[0m \u001b[39m# We have to let unknown file formats pass through here, as some ancient\u001b[39;00m\n\u001b[0;32m    168\u001b[0m \u001b[39m# files that xlrd can parse don't start with the expected signature.\u001b[39;00m\n\u001b[0;32m    169\u001b[0m \u001b[39mif\u001b[39;00m file_format \u001b[39mand\u001b[39;00m file_format \u001b[39m!=\u001b[39m \u001b[39m'\u001b[39m\u001b[39mxls\u001b[39m\u001b[39m'\u001b[39m:\n\u001b[1;32m--> 170\u001b[0m     \u001b[39mraise\u001b[39;00m XLRDError(FILE_FORMAT_DESCRIPTIONS[file_format]\u001b[39m+\u001b[39m\u001b[39m'\u001b[39m\u001b[39m; not supported\u001b[39m\u001b[39m'\u001b[39m)\n\u001b[0;32m    172\u001b[0m bk \u001b[39m=\u001b[39m open_workbook_xls(\n\u001b[0;32m    173\u001b[0m     filename\u001b[39m=\u001b[39mfilename,\n\u001b[0;32m    174\u001b[0m     logfile\u001b[39m=\u001b[39mlogfile,\n\u001b[1;32m   (...)\u001b[0m\n\u001b[0;32m    182\u001b[0m     ignore_workbook_corruption\u001b[39m=\u001b[39mignore_workbook_corruption,\n\u001b[0;32m    183\u001b[0m )\n\u001b[0;32m    185\u001b[0m \u001b[39mreturn\u001b[39;00m bk\n",
      "\u001b[1;31mXLRDError\u001b[0m: Excel xlsx file; not supported"
     ]
    }
   ],
   "source": [
    "import pandas as pd\n",
    "\n",
    "pd.read_excel('data.xlsx', engine='openpyxl')"
   ]
  }
 ],
 "metadata": {
  "kernelspec": {
   "display_name": "ABM",
   "language": "python",
   "name": "python3"
  },
  "language_info": {
   "codemirror_mode": {
    "name": "ipython",
    "version": 3
   },
   "file_extension": ".py",
   "mimetype": "text/x-python",
   "name": "python",
   "nbconvert_exporter": "python",
   "pygments_lexer": "ipython3",
   "version": "3.9.15 (main, Nov 24 2022, 14:39:17) [MSC v.1916 64 bit (AMD64)]"
  },
  "orig_nbformat": 4,
  "vscode": {
   "interpreter": {
    "hash": "86bc8a943d562c4a67ae73fc47e0f626d68abcc3b9f6a0a0642b86892949bf6b"
   }
  }
 },
 "nbformat": 4,
 "nbformat_minor": 2
}
