{
 "cells": [
  {
   "cell_type": "code",
   "execution_count": 13,
   "metadata": {},
   "outputs": [
    {
     "name": "stdout",
     "output_type": "stream",
     "text": [
      "    stadsdeel  population  houses  houses_sold  average_house_price  \\\n",
      "0     Centrum       87310   54976         1470               735193   \n",
      "1        West      147421   80359         2799               523489   \n",
      "2  Nieuw-West      160124   69607         1387               434927   \n",
      "3        Zuid      146291   81860         2758               747390   \n",
      "4        Oost      142049   72396         1971               567228   \n",
      "5       Noord       99238   45981          953               471072   \n",
      "6    Zuidoost       89841   42001          685               323134   \n",
      "\n",
      "   household_income  household_disposable_income  household_expenses  \\\n",
      "0           71391.0                        44900             26491.0   \n",
      "1           66063.0                        37500             28563.0   \n",
      "2           66930.0                        36100             30830.0   \n",
      "3           87710.0                        49800             37910.0   \n",
      "4           73500.0                        42100             31400.0   \n",
      "5           61560.0                        35800             25760.0   \n",
      "6           54998.0                        31400             23598.0   \n",
      "\n",
      "   satisfaction_housing  satisfaction_neighbourhood  want_to_move_out_%  \\\n",
      "0                  0.79                        0.81              0.4485   \n",
      "1                  0.76                        0.77              0.5230   \n",
      "2                  0.75                        0.68              0.5185   \n",
      "3                  0.77                        0.81              0.4955   \n",
      "4                  0.78                        0.78              0.5185   \n",
      "5                  0.76                        0.73              0.4335   \n",
      "6                  0.75                        0.71              0.4775   \n",
      "\n",
      "   shop_index  crime_index  built-up_area_%  nature_area_%  \n",
      "0    1.000000     0.615190         0.742792       0.257208  \n",
      "1    0.590831     0.554604         0.766051       0.233949  \n",
      "2    0.561268     0.606975         0.551185       0.448818  \n",
      "3    0.771208     0.422753         0.708646       0.291354  \n",
      "4    0.459726     0.393692         0.432157       0.567839  \n",
      "5    0.328192     0.546595         0.232827       0.767173  \n",
      "6    0.296058     0.960632         0.590609       0.409386  \n"
     ]
    }
   ],
   "source": [
    "import pandas as pd\n",
    "\n",
    "class real_life_data:\n",
    "    df = pd.read_excel('../data/_combined_datasets.xlsx', engine='openpyxl')\n",
    "\n",
    "    neighbourhood_households_amount = df[\"houses\"].values.tolist()\n",
    "    neighbourhood_households_disposable_income = df[\"household_disposable_income\"].values.tolist()\n",
    "\n",
    "    neighbourhood_housing_quality = df[\"satisfaction_housing\"].values.tolist()\n",
    "    neighbourhood_shops = df[\"shop_index\"].values.tolist()\n",
    "    neighbourhood_crime = df[\"crime_index\"].values.tolist()\n",
    "    neighbourhood_nature = df[\"nature_area_%\"].values.tolist()\n",
    "\n",
    "    target_neighbourhood_houses_sold = df[\"houses_sold\"].values.tolist()\n",
    "    target_neighbourhood_houses_price = df[\"average_house_price\"].values.tolist()\n",
    "    target_neighbourhood_satisfaction = df[\"satisfaction_neighbourhood\"].values.tolist()\n",
    "    target_neighbourhood_sellers = df[\"want_to_move_out_%\"].values.tolist()\\\n",
    "    \n",
    "data_object = real_life_data"
   ]
  }
 ],
 "metadata": {
  "kernelspec": {
   "display_name": "ABM",
   "language": "python",
   "name": "python3"
  },
  "language_info": {
   "codemirror_mode": {
    "name": "ipython",
    "version": 3
   },
   "file_extension": ".py",
   "mimetype": "text/x-python",
   "name": "python",
   "nbconvert_exporter": "python",
   "pygments_lexer": "ipython3",
   "version": "3.9.15"
  },
  "orig_nbformat": 4,
  "vscode": {
   "interpreter": {
    "hash": "760f8bdf874b5160b38b6879c260d3a16bc659bc038952c05bba4c0886a5ac27"
   }
  }
 },
 "nbformat": 4,
 "nbformat_minor": 2
}
