{
 "cells": [
  {
   "cell_type": "code",
   "execution_count": 63,
   "metadata": {},
   "outputs": [],
   "source": [
    "import pandas as pd\n",
    "\n",
    "class real_life_data:\n",
    "    df = pd.read_excel('../data/_combined_datasets.xlsx', engine='openpyxl')\n",
    "    \n",
    "    neighbourhood_name = df[\"stadsdeel\"].values.tolist()\n",
    "    neighbourhood_households_amount = df[\"houses\"].values.tolist()\n",
    "    neighbourhood_households_expenses = df[\"household_expenses\"].values.tolist()\n",
    "    neighbourhood_households_income = df[\"household_income\"].values.tolist()\n",
    "\n",
    "    neighbourhood_housing_quality = df[\"satisfaction_housing\"].values.tolist()\n",
    "    neighbourhood_shops = df[\"shop_index\"].values.tolist()\n",
    "    neighbourhood_crime = df[\"crime_index\"].values.tolist()\n",
    "    neighbourhood_nature = df[\"nature_area_%\"].values.tolist()\n",
    "\n",
    "    target_neighbourhood_houses_sold = df[\"houses_sold\"].values.tolist()\n",
    "    target_neighbourhood_houses_price = df[\"average_house_price\"].values.tolist()\n",
    "    target_neighbourhood_satisfaction = df[\"satisfaction_neighbourhood\"].values.tolist()\n",
    "    target_neighbourhood_sellers = df[\"want_to_move_out_%\"].values.tolist()\n",
    "    \n",
    "data_object = real_life_data\n",
    "\n",
    "class real_life_salaries:\n",
    "    df = pd.read_excel('../data/Salaries_Netherlands.xlsx', engine='openpyxl')\n",
    "    size = df[\"Size\"].values.tolist()\n",
    "    income = df[\"Income\"].values.tolist()\n",
    "    salaries = []\n",
    "    for i in range(len(df)):\n",
    "        for j in range(size[i]):\n",
    "            salaries.append(income[i])\n",
    "\n",
    "salary_object = real_life_salaries\n"
   ]
  },
  {
   "cell_type": "code",
   "execution_count": 99,
   "metadata": {},
   "outputs": [
    {
     "name": "stdout",
     "output_type": "stream",
     "text": [
      "Salary mu 11.130763621035388\n",
      "Salary sigma 0.13582335509677346\n",
      "Salary mu 10.420745455834332\n",
      "Salary sigma 0.4256335907963529\n",
      "Mean Salary:  68238.46044584415\n",
      "Average House Value:  543204.7142857143\n"
     ]
    },
    {
     "data": {
      "text/plain": [
       "Text(0.5, 0, 'Data')"
      ]
     },
     "execution_count": 99,
     "metadata": {},
     "output_type": "execute_result"
    },
    {
     "data": {
      "image/png": "[encoded data removed]",
      "text/plain": [
       "<Figure size 640x480 with 1 Axes>"
      ]
     },
     "metadata": {},
     "output_type": "display_data"
    }
   ],
   "source": [
    "# Getting Salaries Distribution\n",
    "\n",
    "import numpy as np\n",
    "import matplotlib.pyplot as plt\n",
    "\n",
    "data_object = real_life_data\n",
    "salary_object = real_life_salaries\n",
    "\n",
    "# Creating the logarithmic distribution to get values for salary of an agent\n",
    "def get_salary():\n",
    "       data = data_object.neighbourhood_households_income\n",
    "       data_salary = salary_object.salaries\n",
    "       \n",
    "       # Values with Neighbourhood data\n",
    "       mu = (np.mean(np.log(data)))\n",
    "       sigma = (np.std(np.log(data)))\n",
    "       print(\"Salary mu\", mu)                           # 11.130763621035388 <-\n",
    "       print(\"Salary sigma\", sigma)                     # 0.13582335509677346\n",
    "       # Values with whole Netherlands data\n",
    "       mu = (np.mean(np.log(data_salary)))\n",
    "       sigma = (np.std(np.log(data_salary)))\n",
    "       print(\"Salary mu\", mu)                           # 10.420745455834332\n",
    "       print(\"Salary sigma\", sigma)                     # 0.4256335907963529 <-\n",
    "\n",
    "       return np.random.lognormal(mu, sigma, 1)\n",
    "\n",
    "get_salary()\n",
    "print(\"Mean Salary: \", np.exp((11.130763621035388)))                                              # Mean Salary \n",
    "print(\"Average House Value: \", np.mean((data_object.target_neighbourhood_houses_price)))          # Mean House Price\n",
    "\n",
    "x = np.random.lognormal(11.130763621035388, 0.42361311973300236, 1000)         # Inverse exp(11.13)=68238. Mean Salary\n",
    "plt.hist(x, density=True, bins=30)  # density=False would make counts\n",
    "plt.ylabel('Probability')\n",
    "plt.xlabel('Data')"
   ]
  }
 ],
 "metadata": {
  "kernelspec": {
   "display_name": "ABM",
   "language": "python",
   "name": "python3"
  },
  "language_info": {
   "codemirror_mode": {
    "name": "ipython",
    "version": 3
   },
   "file_extension": ".py",
   "mimetype": "text/x-python",
   "name": "python",
   "nbconvert_exporter": "python",
   "pygments_lexer": "ipython3",
   "version": "3.9.15"
  },
  "orig_nbformat": 4,
  "vscode": {
   "interpreter": {
    "hash": "86bc8a943d562c4a67ae73fc47e0f626d68abcc3b9f6a0a0642b86892949bf6b"
   }
  }
 },
 "nbformat": 4,
 "nbformat_minor": 2
}
